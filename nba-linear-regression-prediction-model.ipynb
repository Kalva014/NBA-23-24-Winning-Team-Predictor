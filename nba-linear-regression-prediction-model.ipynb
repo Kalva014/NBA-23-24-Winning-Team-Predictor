{
 "cells": [
  {
   "cell_type": "markdown",
   "id": "6e9a4e57",
   "metadata": {
    "papermill": {
     "duration": 0.004839,
     "end_time": "2023-11-17T19:27:01.236712",
     "exception": false,
     "start_time": "2023-11-17T19:27:01.231873",
     "status": "completed"
    },
    "tags": []
   },
   "source": [
    "# Goal: Build a linear regression model that predicts the team that will win the regular season"
   ]
  },
  {
   "cell_type": "code",
   "execution_count": 1,
   "id": "888a6f76",
   "metadata": {
    "execution": {
     "iopub.execute_input": "2023-11-17T19:27:01.249845Z",
     "iopub.status.busy": "2023-11-17T19:27:01.248951Z",
     "iopub.status.idle": "2023-11-17T19:27:01.988355Z",
     "shell.execute_reply": "2023-11-17T19:27:01.987090Z"
    },
    "papermill": {
     "duration": 0.748154,
     "end_time": "2023-11-17T19:27:01.991377",
     "exception": false,
     "start_time": "2023-11-17T19:27:01.243223",
     "status": "completed"
    },
    "tags": []
   },
   "outputs": [],
   "source": [
    "# Load necessary libraries\n",
    "import pandas as pd"
   ]
  },
  {
   "cell_type": "code",
   "execution_count": 2,
   "id": "2b3c89ad",
   "metadata": {
    "execution": {
     "iopub.execute_input": "2023-11-17T19:27:02.002520Z",
     "iopub.status.busy": "2023-11-17T19:27:02.001982Z",
     "iopub.status.idle": "2023-11-17T19:27:02.047516Z",
     "shell.execute_reply": "2023-11-17T19:27:02.046422Z"
    },
    "papermill": {
     "duration": 0.054136,
     "end_time": "2023-11-17T19:27:02.050384",
     "exception": false,
     "start_time": "2023-11-17T19:27:01.996248",
     "status": "completed"
    },
    "tags": []
   },
   "outputs": [],
   "source": [
    "# Load the data and combine the CSVs together\n",
    "file_1 = \"/kaggle/input/nba-teams-standing-dataset-for-the-2023-2024/NBA_2024_Eastern_Conference_Standing.csv\"\n",
    "file_2 = \"/kaggle/input/nba-teams-standing-dataset-for-the-2023-2024/NBA_2024_Western_Conference_Standing.csv\"\n",
    "files = [file_1, file_2]\n",
    "\n",
    "df = pd.concat(map(pd.read_csv, files))"
   ]
  },
  {
   "cell_type": "code",
   "execution_count": 3,
   "id": "bb906d5e",
   "metadata": {
    "execution": {
     "iopub.execute_input": "2023-11-17T19:27:02.060953Z",
     "iopub.status.busy": "2023-11-17T19:27:02.060585Z",
     "iopub.status.idle": "2023-11-17T19:27:02.069469Z",
     "shell.execute_reply": "2023-11-17T19:27:02.068294Z"
    },
    "papermill": {
     "duration": 0.016898,
     "end_time": "2023-11-17T19:27:02.071723",
     "exception": false,
     "start_time": "2023-11-17T19:27:02.054825",
     "status": "completed"
    },
    "tags": []
   },
   "outputs": [],
   "source": [
    "# Clean the data \n",
    "df['Eastern Conference'].fillna('', inplace=True)\n",
    "df['Western Conference'].fillna('', inplace=True)\n",
    "df['Team Name'] = df['Eastern Conference'] + df['Western Conference']"
   ]
  },
  {
   "cell_type": "code",
   "execution_count": 4,
   "id": "9697cf64",
   "metadata": {
    "execution": {
     "iopub.execute_input": "2023-11-17T19:27:02.082555Z",
     "iopub.status.busy": "2023-11-17T19:27:02.082185Z",
     "iopub.status.idle": "2023-11-17T19:27:02.089899Z",
     "shell.execute_reply": "2023-11-17T19:27:02.088748Z"
    },
    "papermill": {
     "duration": 0.01645,
     "end_time": "2023-11-17T19:27:02.092696",
     "exception": false,
     "start_time": "2023-11-17T19:27:02.076246",
     "status": "completed"
    },
    "tags": []
   },
   "outputs": [
    {
     "name": "stdout",
     "output_type": "stream",
     "text": [
      "Shape of the dataframe: (30, 4)\n"
     ]
    }
   ],
   "source": [
    "# Select features that will be used in the linear regression model\n",
    "features = ['Team Name','W', 'L', 'SOS']\n",
    "df = df[features]\n",
    "print(f\"Shape of the dataframe: {df.shape}\")"
   ]
  },
  {
   "cell_type": "code",
   "execution_count": 5,
   "id": "91c15e65",
   "metadata": {
    "execution": {
     "iopub.execute_input": "2023-11-17T19:27:02.103962Z",
     "iopub.status.busy": "2023-11-17T19:27:02.103608Z",
     "iopub.status.idle": "2023-11-17T19:27:02.112575Z",
     "shell.execute_reply": "2023-11-17T19:27:02.111462Z"
    },
    "papermill": {
     "duration": 0.017246,
     "end_time": "2023-11-17T19:27:02.114983",
     "exception": false,
     "start_time": "2023-11-17T19:27:02.097737",
     "status": "completed"
    },
    "tags": []
   },
   "outputs": [],
   "source": [
    "# Set input and output for model\n",
    "x = df[['W', 'L', 'SOS']]\n",
    "\n",
    "# Convert to one hot encoding since categorical\n",
    "y = df['Team Name']\n",
    "y_encoded = pd.get_dummies(y, prefix='Team')"
   ]
  },
  {
   "cell_type": "code",
   "execution_count": 6,
   "id": "24f97733",
   "metadata": {
    "execution": {
     "iopub.execute_input": "2023-11-17T19:27:02.126188Z",
     "iopub.status.busy": "2023-11-17T19:27:02.125790Z",
     "iopub.status.idle": "2023-11-17T19:27:03.547285Z",
     "shell.execute_reply": "2023-11-17T19:27:03.546105Z"
    },
    "papermill": {
     "duration": 1.429812,
     "end_time": "2023-11-17T19:27:03.549539",
     "exception": false,
     "start_time": "2023-11-17T19:27:02.119727",
     "status": "completed"
    },
    "tags": []
   },
   "outputs": [
    {
     "data": {
      "text/html": [
       "<style>#sk-container-id-1 {color: black;background-color: white;}#sk-container-id-1 pre{padding: 0;}#sk-container-id-1 div.sk-toggleable {background-color: white;}#sk-container-id-1 label.sk-toggleable__label {cursor: pointer;display: block;width: 100%;margin-bottom: 0;padding: 0.3em;box-sizing: border-box;text-align: center;}#sk-container-id-1 label.sk-toggleable__label-arrow:before {content: \"▸\";float: left;margin-right: 0.25em;color: #696969;}#sk-container-id-1 label.sk-toggleable__label-arrow:hover:before {color: black;}#sk-container-id-1 div.sk-estimator:hover label.sk-toggleable__label-arrow:before {color: black;}#sk-container-id-1 div.sk-toggleable__content {max-height: 0;max-width: 0;overflow: hidden;text-align: left;background-color: #f0f8ff;}#sk-container-id-1 div.sk-toggleable__content pre {margin: 0.2em;color: black;border-radius: 0.25em;background-color: #f0f8ff;}#sk-container-id-1 input.sk-toggleable__control:checked~div.sk-toggleable__content {max-height: 200px;max-width: 100%;overflow: auto;}#sk-container-id-1 input.sk-toggleable__control:checked~label.sk-toggleable__label-arrow:before {content: \"▾\";}#sk-container-id-1 div.sk-estimator input.sk-toggleable__control:checked~label.sk-toggleable__label {background-color: #d4ebff;}#sk-container-id-1 div.sk-label input.sk-toggleable__control:checked~label.sk-toggleable__label {background-color: #d4ebff;}#sk-container-id-1 input.sk-hidden--visually {border: 0;clip: rect(1px 1px 1px 1px);clip: rect(1px, 1px, 1px, 1px);height: 1px;margin: -1px;overflow: hidden;padding: 0;position: absolute;width: 1px;}#sk-container-id-1 div.sk-estimator {font-family: monospace;background-color: #f0f8ff;border: 1px dotted black;border-radius: 0.25em;box-sizing: border-box;margin-bottom: 0.5em;}#sk-container-id-1 div.sk-estimator:hover {background-color: #d4ebff;}#sk-container-id-1 div.sk-parallel-item::after {content: \"\";width: 100%;border-bottom: 1px solid gray;flex-grow: 1;}#sk-container-id-1 div.sk-label:hover label.sk-toggleable__label {background-color: #d4ebff;}#sk-container-id-1 div.sk-serial::before {content: \"\";position: absolute;border-left: 1px solid gray;box-sizing: border-box;top: 0;bottom: 0;left: 50%;z-index: 0;}#sk-container-id-1 div.sk-serial {display: flex;flex-direction: column;align-items: center;background-color: white;padding-right: 0.2em;padding-left: 0.2em;position: relative;}#sk-container-id-1 div.sk-item {position: relative;z-index: 1;}#sk-container-id-1 div.sk-parallel {display: flex;align-items: stretch;justify-content: center;background-color: white;position: relative;}#sk-container-id-1 div.sk-item::before, #sk-container-id-1 div.sk-parallel-item::before {content: \"\";position: absolute;border-left: 1px solid gray;box-sizing: border-box;top: 0;bottom: 0;left: 50%;z-index: -1;}#sk-container-id-1 div.sk-parallel-item {display: flex;flex-direction: column;z-index: 1;position: relative;background-color: white;}#sk-container-id-1 div.sk-parallel-item:first-child::after {align-self: flex-end;width: 50%;}#sk-container-id-1 div.sk-parallel-item:last-child::after {align-self: flex-start;width: 50%;}#sk-container-id-1 div.sk-parallel-item:only-child::after {width: 0;}#sk-container-id-1 div.sk-dashed-wrapped {border: 1px dashed gray;margin: 0 0.4em 0.5em 0.4em;box-sizing: border-box;padding-bottom: 0.4em;background-color: white;}#sk-container-id-1 div.sk-label label {font-family: monospace;font-weight: bold;display: inline-block;line-height: 1.2em;}#sk-container-id-1 div.sk-label-container {text-align: center;}#sk-container-id-1 div.sk-container {/* jupyter's `normalize.less` sets `[hidden] { display: none; }` but bootstrap.min.css set `[hidden] { display: none !important; }` so we also need the `!important` here to be able to override the default hidden behavior on the sphinx rendered scikit-learn.org. See: https://github.com/scikit-learn/scikit-learn/issues/21755 */display: inline-block !important;position: relative;}#sk-container-id-1 div.sk-text-repr-fallback {display: none;}</style><div id=\"sk-container-id-1\" class=\"sk-top-container\"><div class=\"sk-text-repr-fallback\"><pre>LinearRegression()</pre><b>In a Jupyter environment, please rerun this cell to show the HTML representation or trust the notebook. <br />On GitHub, the HTML representation is unable to render, please try loading this page with nbviewer.org.</b></div><div class=\"sk-container\" hidden><div class=\"sk-item\"><div class=\"sk-estimator sk-toggleable\"><input class=\"sk-toggleable__control sk-hidden--visually\" id=\"sk-estimator-id-1\" type=\"checkbox\" checked><label for=\"sk-estimator-id-1\" class=\"sk-toggleable__label sk-toggleable__label-arrow\">LinearRegression</label><div class=\"sk-toggleable__content\"><pre>LinearRegression()</pre></div></div></div></div></div>"
      ],
      "text/plain": [
       "LinearRegression()"
      ]
     },
     "execution_count": 6,
     "metadata": {},
     "output_type": "execute_result"
    }
   ],
   "source": [
    "# Set up linear regression model \n",
    "from sklearn import linear_model\n",
    "\n",
    "model = linear_model.LinearRegression()\n",
    "model.fit(x, y_encoded)"
   ]
  },
  {
   "cell_type": "code",
   "execution_count": 7,
   "id": "97ab272d",
   "metadata": {
    "execution": {
     "iopub.execute_input": "2023-11-17T19:27:03.560889Z",
     "iopub.status.busy": "2023-11-17T19:27:03.560484Z",
     "iopub.status.idle": "2023-11-17T19:27:03.649834Z",
     "shell.execute_reply": "2023-11-17T19:27:03.648696Z"
    },
    "papermill": {
     "duration": 0.097963,
     "end_time": "2023-11-17T19:27:03.652306",
     "exception": false,
     "start_time": "2023-11-17T19:27:03.554343",
     "status": "completed"
    },
    "tags": []
   },
   "outputs": [
    {
     "name": "stderr",
     "output_type": "stream",
     "text": [
      "/opt/conda/lib/python3.10/site-packages/sklearn/base.py:439: UserWarning: X does not have valid feature names, but LinearRegression was fitted with feature names\n",
      "  warnings.warn(\n"
     ]
    }
   ],
   "source": [
    "# Make a prediction using the model\n",
    "import numpy as np\n",
    "\n",
    "new_x = np.array([60, 20, 2.0])\n",
    "new_x = new_x[np.newaxis, :]\n",
    "weights = model.coef_\n",
    "predictions = model.predict(new_x)"
   ]
  },
  {
   "cell_type": "code",
   "execution_count": 8,
   "id": "eb234c3c",
   "metadata": {
    "execution": {
     "iopub.execute_input": "2023-11-17T19:27:03.664100Z",
     "iopub.status.busy": "2023-11-17T19:27:03.663460Z",
     "iopub.status.idle": "2023-11-17T19:27:03.668010Z",
     "shell.execute_reply": "2023-11-17T19:27:03.667267Z"
    },
    "papermill": {
     "duration": 0.012861,
     "end_time": "2023-11-17T19:27:03.670182",
     "exception": false,
     "start_time": "2023-11-17T19:27:03.657321",
     "status": "completed"
    },
    "tags": []
   },
   "outputs": [],
   "source": [
    "y = y.to_numpy()"
   ]
  },
  {
   "cell_type": "code",
   "execution_count": 9,
   "id": "8b6f8c76",
   "metadata": {
    "execution": {
     "iopub.execute_input": "2023-11-17T19:27:03.681714Z",
     "iopub.status.busy": "2023-11-17T19:27:03.681113Z",
     "iopub.status.idle": "2023-11-17T19:27:03.688404Z",
     "shell.execute_reply": "2023-11-17T19:27:03.687311Z"
    },
    "papermill": {
     "duration": 0.015857,
     "end_time": "2023-11-17T19:27:03.690885",
     "exception": false,
     "start_time": "2023-11-17T19:27:03.675028",
     "status": "completed"
    },
    "tags": []
   },
   "outputs": [
    {
     "data": {
      "text/plain": [
       "'Philadelphia 76ers'"
      ]
     },
     "execution_count": 9,
     "metadata": {},
     "output_type": "execute_result"
    }
   ],
   "source": [
    "predicted_value = y[np.argmax(predictions)]\n",
    "predicted_value"
   ]
  },
  {
   "cell_type": "code",
   "execution_count": null,
   "id": "4396ddbe",
   "metadata": {
    "papermill": {
     "duration": 0.004759,
     "end_time": "2023-11-17T19:27:03.700711",
     "exception": false,
     "start_time": "2023-11-17T19:27:03.695952",
     "status": "completed"
    },
    "tags": []
   },
   "outputs": [],
   "source": []
  }
 ],
 "metadata": {
  "kaggle": {
   "accelerator": "none",
   "dataSources": [
    {
     "datasetId": 3994518,
     "sourceId": 6986909,
     "sourceType": "datasetVersion"
    }
   ],
   "dockerImageVersionId": 30587,
   "isGpuEnabled": false,
   "isInternetEnabled": true,
   "language": "python",
   "sourceType": "notebook"
  },
  "kernelspec": {
   "display_name": "Python 3",
   "language": "python",
   "name": "python3"
  },
  "language_info": {
   "codemirror_mode": {
    "name": "ipython",
    "version": 3
   },
   "file_extension": ".py",
   "mimetype": "text/x-python",
   "name": "python",
   "nbconvert_exporter": "python",
   "pygments_lexer": "ipython3",
   "version": "3.10.12"
  },
  "papermill": {
   "default_parameters": {},
   "duration": 7.302966,
   "end_time": "2023-11-17T19:27:04.326079",
   "environment_variables": {},
   "exception": null,
   "input_path": "__notebook__.ipynb",
   "output_path": "__notebook__.ipynb",
   "parameters": {},
   "start_time": "2023-11-17T19:26:57.023113",
   "version": "2.4.0"
  }
 },
 "nbformat": 4,
 "nbformat_minor": 5
}
