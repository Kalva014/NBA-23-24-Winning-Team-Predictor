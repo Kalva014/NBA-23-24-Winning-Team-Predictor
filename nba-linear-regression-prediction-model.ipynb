{
 "cells": [
  {
   "cell_type": "markdown",
   "id": "4057aff5",
   "metadata": {
    "papermill": {
     "duration": 0.003881,
     "end_time": "2023-11-17T19:41:30.798163",
     "exception": false,
     "start_time": "2023-11-17T19:41:30.794282",
     "status": "completed"
    },
    "tags": []
   },
   "source": [
    "# Goal: Build a linear regression model that predicts the team that will win the regular season"
   ]
  },
  {
   "cell_type": "code",
   "execution_count": 1,
   "id": "ce5b2893",
   "metadata": {
    "execution": {
     "iopub.execute_input": "2023-11-17T19:41:30.809067Z",
     "iopub.status.busy": "2023-11-17T19:41:30.808455Z",
     "iopub.status.idle": "2023-11-17T19:41:31.124552Z",
     "shell.execute_reply": "2023-11-17T19:41:31.123664Z"
    },
    "papermill": {
     "duration": 0.323673,
     "end_time": "2023-11-17T19:41:31.127717",
     "exception": false,
     "start_time": "2023-11-17T19:41:30.804044",
     "status": "completed"
    },
    "tags": []
   },
   "outputs": [],
   "source": [
    "# Load necessary libraries\n",
    "import pandas as pd"
   ]
  },
  {
   "cell_type": "code",
   "execution_count": 2,
   "id": "2fc3fef9",
   "metadata": {
    "execution": {
     "iopub.execute_input": "2023-11-17T19:41:31.136010Z",
     "iopub.status.busy": "2023-11-17T19:41:31.135513Z",
     "iopub.status.idle": "2023-11-17T19:41:31.178336Z",
     "shell.execute_reply": "2023-11-17T19:41:31.177402Z"
    },
    "papermill": {
     "duration": 0.049811,
     "end_time": "2023-11-17T19:41:31.180920",
     "exception": false,
     "start_time": "2023-11-17T19:41:31.131109",
     "status": "completed"
    },
    "tags": []
   },
   "outputs": [],
   "source": [
    "# Load the data and combine the CSVs together\n",
    "file_1 = \"/kaggle/input/nba-teams-standing-dataset-for-the-2023-2024/NBA_2024_Eastern_Conference_Standing.csv\"\n",
    "file_2 = \"/kaggle/input/nba-teams-standing-dataset-for-the-2023-2024/NBA_2024_Western_Conference_Standing.csv\"\n",
    "files = [file_1, file_2]\n",
    "\n",
    "df = pd.concat(map(pd.read_csv, files))"
   ]
  },
  {
   "cell_type": "code",
   "execution_count": 3,
   "id": "73e68907",
   "metadata": {
    "execution": {
     "iopub.execute_input": "2023-11-17T19:41:31.187936Z",
     "iopub.status.busy": "2023-11-17T19:41:31.187612Z",
     "iopub.status.idle": "2023-11-17T19:41:31.196506Z",
     "shell.execute_reply": "2023-11-17T19:41:31.195332Z"
    },
    "papermill": {
     "duration": 0.014744,
     "end_time": "2023-11-17T19:41:31.198508",
     "exception": false,
     "start_time": "2023-11-17T19:41:31.183764",
     "status": "completed"
    },
    "tags": []
   },
   "outputs": [],
   "source": [
    "# Clean the data \n",
    "df['Eastern Conference'].fillna('', inplace=True)\n",
    "df['Western Conference'].fillna('', inplace=True)\n",
    "df['Team Name'] = df['Eastern Conference'] + df['Western Conference']"
   ]
  },
  {
   "cell_type": "code",
   "execution_count": 4,
   "id": "085401f9",
   "metadata": {
    "execution": {
     "iopub.execute_input": "2023-11-17T19:41:31.205203Z",
     "iopub.status.busy": "2023-11-17T19:41:31.204912Z",
     "iopub.status.idle": "2023-11-17T19:41:31.212696Z",
     "shell.execute_reply": "2023-11-17T19:41:31.209764Z"
    },
    "papermill": {
     "duration": 0.01305,
     "end_time": "2023-11-17T19:41:31.214457",
     "exception": false,
     "start_time": "2023-11-17T19:41:31.201407",
     "status": "completed"
    },
    "tags": []
   },
   "outputs": [
    {
     "name": "stdout",
     "output_type": "stream",
     "text": [
      "Shape of the dataframe: (30, 3)\n"
     ]
    }
   ],
   "source": [
    "# Select features that will be used in the linear regression model\n",
    "features = ['Team Name','W/L%', 'rSOS']\n",
    "df = df[features]\n",
    "print(f\"Shape of the dataframe: {df.shape}\")"
   ]
  },
  {
   "cell_type": "code",
   "execution_count": 5,
   "id": "1637bdc1",
   "metadata": {
    "execution": {
     "iopub.execute_input": "2023-11-17T19:41:31.221456Z",
     "iopub.status.busy": "2023-11-17T19:41:31.220645Z",
     "iopub.status.idle": "2023-11-17T19:41:31.228773Z",
     "shell.execute_reply": "2023-11-17T19:41:31.228181Z"
    },
    "papermill": {
     "duration": 0.013392,
     "end_time": "2023-11-17T19:41:31.230571",
     "exception": false,
     "start_time": "2023-11-17T19:41:31.217179",
     "status": "completed"
    },
    "tags": []
   },
   "outputs": [],
   "source": [
    "# Set input and output for model\n",
    "x = df[['W/L%', 'rSOS']]\n",
    "\n",
    "# Convert to one hot encoding since categorical\n",
    "y = df['Team Name']\n",
    "y_encoded = pd.get_dummies(y, prefix='Team')"
   ]
  },
  {
   "cell_type": "code",
   "execution_count": 6,
   "id": "d2e54abf",
   "metadata": {
    "execution": {
     "iopub.execute_input": "2023-11-17T19:41:31.240901Z",
     "iopub.status.busy": "2023-11-17T19:41:31.240533Z",
     "iopub.status.idle": "2023-11-17T19:41:32.587919Z",
     "shell.execute_reply": "2023-11-17T19:41:32.586956Z"
    },
    "papermill": {
     "duration": 1.356484,
     "end_time": "2023-11-17T19:41:32.590167",
     "exception": false,
     "start_time": "2023-11-17T19:41:31.233683",
     "status": "completed"
    },
    "tags": []
   },
   "outputs": [
    {
     "data": {
      "text/html": [
       "<style>#sk-container-id-1 {color: black;background-color: white;}#sk-container-id-1 pre{padding: 0;}#sk-container-id-1 div.sk-toggleable {background-color: white;}#sk-container-id-1 label.sk-toggleable__label {cursor: pointer;display: block;width: 100%;margin-bottom: 0;padding: 0.3em;box-sizing: border-box;text-align: center;}#sk-container-id-1 label.sk-toggleable__label-arrow:before {content: \"▸\";float: left;margin-right: 0.25em;color: #696969;}#sk-container-id-1 label.sk-toggleable__label-arrow:hover:before {color: black;}#sk-container-id-1 div.sk-estimator:hover label.sk-toggleable__label-arrow:before {color: black;}#sk-container-id-1 div.sk-toggleable__content {max-height: 0;max-width: 0;overflow: hidden;text-align: left;background-color: #f0f8ff;}#sk-container-id-1 div.sk-toggleable__content pre {margin: 0.2em;color: black;border-radius: 0.25em;background-color: #f0f8ff;}#sk-container-id-1 input.sk-toggleable__control:checked~div.sk-toggleable__content {max-height: 200px;max-width: 100%;overflow: auto;}#sk-container-id-1 input.sk-toggleable__control:checked~label.sk-toggleable__label-arrow:before {content: \"▾\";}#sk-container-id-1 div.sk-estimator input.sk-toggleable__control:checked~label.sk-toggleable__label {background-color: #d4ebff;}#sk-container-id-1 div.sk-label input.sk-toggleable__control:checked~label.sk-toggleable__label {background-color: #d4ebff;}#sk-container-id-1 input.sk-hidden--visually {border: 0;clip: rect(1px 1px 1px 1px);clip: rect(1px, 1px, 1px, 1px);height: 1px;margin: -1px;overflow: hidden;padding: 0;position: absolute;width: 1px;}#sk-container-id-1 div.sk-estimator {font-family: monospace;background-color: #f0f8ff;border: 1px dotted black;border-radius: 0.25em;box-sizing: border-box;margin-bottom: 0.5em;}#sk-container-id-1 div.sk-estimator:hover {background-color: #d4ebff;}#sk-container-id-1 div.sk-parallel-item::after {content: \"\";width: 100%;border-bottom: 1px solid gray;flex-grow: 1;}#sk-container-id-1 div.sk-label:hover label.sk-toggleable__label {background-color: #d4ebff;}#sk-container-id-1 div.sk-serial::before {content: \"\";position: absolute;border-left: 1px solid gray;box-sizing: border-box;top: 0;bottom: 0;left: 50%;z-index: 0;}#sk-container-id-1 div.sk-serial {display: flex;flex-direction: column;align-items: center;background-color: white;padding-right: 0.2em;padding-left: 0.2em;position: relative;}#sk-container-id-1 div.sk-item {position: relative;z-index: 1;}#sk-container-id-1 div.sk-parallel {display: flex;align-items: stretch;justify-content: center;background-color: white;position: relative;}#sk-container-id-1 div.sk-item::before, #sk-container-id-1 div.sk-parallel-item::before {content: \"\";position: absolute;border-left: 1px solid gray;box-sizing: border-box;top: 0;bottom: 0;left: 50%;z-index: -1;}#sk-container-id-1 div.sk-parallel-item {display: flex;flex-direction: column;z-index: 1;position: relative;background-color: white;}#sk-container-id-1 div.sk-parallel-item:first-child::after {align-self: flex-end;width: 50%;}#sk-container-id-1 div.sk-parallel-item:last-child::after {align-self: flex-start;width: 50%;}#sk-container-id-1 div.sk-parallel-item:only-child::after {width: 0;}#sk-container-id-1 div.sk-dashed-wrapped {border: 1px dashed gray;margin: 0 0.4em 0.5em 0.4em;box-sizing: border-box;padding-bottom: 0.4em;background-color: white;}#sk-container-id-1 div.sk-label label {font-family: monospace;font-weight: bold;display: inline-block;line-height: 1.2em;}#sk-container-id-1 div.sk-label-container {text-align: center;}#sk-container-id-1 div.sk-container {/* jupyter's `normalize.less` sets `[hidden] { display: none; }` but bootstrap.min.css set `[hidden] { display: none !important; }` so we also need the `!important` here to be able to override the default hidden behavior on the sphinx rendered scikit-learn.org. See: https://github.com/scikit-learn/scikit-learn/issues/21755 */display: inline-block !important;position: relative;}#sk-container-id-1 div.sk-text-repr-fallback {display: none;}</style><div id=\"sk-container-id-1\" class=\"sk-top-container\"><div class=\"sk-text-repr-fallback\"><pre>LinearRegression()</pre><b>In a Jupyter environment, please rerun this cell to show the HTML representation or trust the notebook. <br />On GitHub, the HTML representation is unable to render, please try loading this page with nbviewer.org.</b></div><div class=\"sk-container\" hidden><div class=\"sk-item\"><div class=\"sk-estimator sk-toggleable\"><input class=\"sk-toggleable__control sk-hidden--visually\" id=\"sk-estimator-id-1\" type=\"checkbox\" checked><label for=\"sk-estimator-id-1\" class=\"sk-toggleable__label sk-toggleable__label-arrow\">LinearRegression</label><div class=\"sk-toggleable__content\"><pre>LinearRegression()</pre></div></div></div></div></div>"
      ],
      "text/plain": [
       "LinearRegression()"
      ]
     },
     "execution_count": 6,
     "metadata": {},
     "output_type": "execute_result"
    }
   ],
   "source": [
    "# Set up linear regression model \n",
    "from sklearn import linear_model\n",
    "\n",
    "model = linear_model.LinearRegression()\n",
    "model.fit(x, y_encoded)"
   ]
  },
  {
   "cell_type": "code",
   "execution_count": 7,
   "id": "4f86aa8a",
   "metadata": {
    "execution": {
     "iopub.execute_input": "2023-11-17T19:41:32.598575Z",
     "iopub.status.busy": "2023-11-17T19:41:32.597526Z",
     "iopub.status.idle": "2023-11-17T19:41:32.672625Z",
     "shell.execute_reply": "2023-11-17T19:41:32.671803Z"
    },
    "papermill": {
     "duration": 0.080902,
     "end_time": "2023-11-17T19:41:32.674496",
     "exception": false,
     "start_time": "2023-11-17T19:41:32.593594",
     "status": "completed"
    },
    "tags": []
   },
   "outputs": [
    {
     "name": "stderr",
     "output_type": "stream",
     "text": [
      "/opt/conda/lib/python3.10/site-packages/sklearn/base.py:439: UserWarning: X does not have valid feature names, but LinearRegression was fitted with feature names\n",
      "  warnings.warn(\n"
     ]
    }
   ],
   "source": [
    "# Make a prediction using the model\n",
    "import numpy as np\n",
    "\n",
    "new_x = np.array([1, 1.0])\n",
    "new_x = new_x[np.newaxis, :]\n",
    "weights = model.coef_\n",
    "predictions = model.predict(new_x)"
   ]
  },
  {
   "cell_type": "code",
   "execution_count": 8,
   "id": "9321605f",
   "metadata": {
    "execution": {
     "iopub.execute_input": "2023-11-17T19:41:32.682555Z",
     "iopub.status.busy": "2023-11-17T19:41:32.681539Z",
     "iopub.status.idle": "2023-11-17T19:41:32.687867Z",
     "shell.execute_reply": "2023-11-17T19:41:32.686434Z"
    },
    "papermill": {
     "duration": 0.012529,
     "end_time": "2023-11-17T19:41:32.690112",
     "exception": false,
     "start_time": "2023-11-17T19:41:32.677583",
     "status": "completed"
    },
    "tags": []
   },
   "outputs": [
    {
     "name": "stdout",
     "output_type": "stream",
     "text": [
      "Best team coming out of the regular season: Phoenix Suns\n"
     ]
    }
   ],
   "source": [
    "# Output predictions\n",
    "y = y.to_numpy()\n",
    "predicted_value = y[np.argmax(predictions)]\n",
    "print(f\"Best team coming out of the regular season: {predicted_value}\")"
   ]
  },
  {
   "cell_type": "code",
   "execution_count": null,
   "id": "530d5cf6",
   "metadata": {
    "papermill": {
     "duration": 0.002794,
     "end_time": "2023-11-17T19:41:32.696146",
     "exception": false,
     "start_time": "2023-11-17T19:41:32.693352",
     "status": "completed"
    },
    "tags": []
   },
   "outputs": [],
   "source": []
  }
 ],
 "metadata": {
  "kaggle": {
   "accelerator": "none",
   "dataSources": [
    {
     "datasetId": 3994518,
     "sourceId": 6986909,
     "sourceType": "datasetVersion"
    }
   ],
   "dockerImageVersionId": 30587,
   "isGpuEnabled": false,
   "isInternetEnabled": true,
   "language": "python",
   "sourceType": "notebook"
  },
  "kernelspec": {
   "display_name": "Python 3",
   "language": "python",
   "name": "python3"
  },
  "language_info": {
   "codemirror_mode": {
    "name": "ipython",
    "version": 3
   },
   "file_extension": ".py",
   "mimetype": "text/x-python",
   "name": "python",
   "nbconvert_exporter": "python",
   "pygments_lexer": "ipython3",
   "version": "3.10.12"
  },
  "papermill": {
   "default_parameters": {},
   "duration": 5.021998,
   "end_time": "2023-11-17T19:41:33.219853",
   "environment_variables": {},
   "exception": null,
   "input_path": "__notebook__.ipynb",
   "output_path": "__notebook__.ipynb",
   "parameters": {},
   "start_time": "2023-11-17T19:41:28.197855",
   "version": "2.4.0"
  }
 },
 "nbformat": 4,
 "nbformat_minor": 5
}
