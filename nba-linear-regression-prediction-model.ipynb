{
 "cells": [
  {
   "cell_type": "markdown",
   "id": "336b8276",
   "metadata": {
    "papermill": {
     "duration": 0.002838,
     "end_time": "2023-11-16T22:48:37.284677",
     "exception": false,
     "start_time": "2023-11-16T22:48:37.281839",
     "status": "completed"
    },
    "tags": []
   },
   "source": [
    "# Goal: Build a linear regression model that predicts the team that will win the regular season"
   ]
  },
  {
   "cell_type": "code",
   "execution_count": 1,
   "id": "131ff213",
   "metadata": {
    "execution": {
     "iopub.execute_input": "2023-11-16T22:48:37.292276Z",
     "iopub.status.busy": "2023-11-16T22:48:37.291387Z",
     "iopub.status.idle": "2023-11-16T22:48:37.679148Z",
     "shell.execute_reply": "2023-11-16T22:48:37.677882Z"
    },
    "papermill": {
     "duration": 0.394673,
     "end_time": "2023-11-16T22:48:37.681922",
     "exception": false,
     "start_time": "2023-11-16T22:48:37.287249",
     "status": "completed"
    },
    "tags": []
   },
   "outputs": [],
   "source": [
    "# Load necessary libraries\n",
    "import pandas as pd"
   ]
  },
  {
   "cell_type": "code",
   "execution_count": 2,
   "id": "55cfe99c",
   "metadata": {
    "execution": {
     "iopub.execute_input": "2023-11-16T22:48:37.691772Z",
     "iopub.status.busy": "2023-11-16T22:48:37.691240Z",
     "iopub.status.idle": "2023-11-16T22:48:37.740494Z",
     "shell.execute_reply": "2023-11-16T22:48:37.739392Z"
    },
    "papermill": {
     "duration": 0.057668,
     "end_time": "2023-11-16T22:48:37.743272",
     "exception": false,
     "start_time": "2023-11-16T22:48:37.685604",
     "status": "completed"
    },
    "tags": []
   },
   "outputs": [],
   "source": [
    "# Load the data and combine the CSVs together\n",
    "file_1 = \"/kaggle/input/nba-teams-standing-dataset-for-the-2023-2024/NBA_2024_Eastern_Conference_Standing.csv\"\n",
    "file_2 = \"/kaggle/input/nba-teams-standing-dataset-for-the-2023-2024/NBA_2024_Western_Conference_Standing.csv\"\n",
    "files = [file_1, file_2]\n",
    "\n",
    "df = pd.concat(map(pd.read_csv, files))"
   ]
  },
  {
   "cell_type": "code",
   "execution_count": 3,
   "id": "d53b64ae",
   "metadata": {
    "execution": {
     "iopub.execute_input": "2023-11-16T22:48:37.749908Z",
     "iopub.status.busy": "2023-11-16T22:48:37.749520Z",
     "iopub.status.idle": "2023-11-16T22:48:37.757854Z",
     "shell.execute_reply": "2023-11-16T22:48:37.756876Z"
    },
    "papermill": {
     "duration": 0.014317,
     "end_time": "2023-11-16T22:48:37.760082",
     "exception": false,
     "start_time": "2023-11-16T22:48:37.745765",
     "status": "completed"
    },
    "tags": []
   },
   "outputs": [],
   "source": [
    "# Clean the data \n",
    "df['Eastern Conference'].fillna('', inplace=True)\n",
    "df['Western Conference'].fillna('', inplace=True)\n",
    "df['Team Name'] = df['Eastern Conference'] + df['Western Conference']"
   ]
  },
  {
   "cell_type": "code",
   "execution_count": 4,
   "id": "c5c8aae7",
   "metadata": {
    "execution": {
     "iopub.execute_input": "2023-11-16T22:48:37.766555Z",
     "iopub.status.busy": "2023-11-16T22:48:37.766190Z",
     "iopub.status.idle": "2023-11-16T22:48:37.773068Z",
     "shell.execute_reply": "2023-11-16T22:48:37.771854Z"
    },
    "papermill": {
     "duration": 0.012986,
     "end_time": "2023-11-16T22:48:37.775514",
     "exception": false,
     "start_time": "2023-11-16T22:48:37.762528",
     "status": "completed"
    },
    "tags": []
   },
   "outputs": [
    {
     "name": "stdout",
     "output_type": "stream",
     "text": [
      "Shape of the dataframe: (30, 4)\n"
     ]
    }
   ],
   "source": [
    "# Select features that will be used in the linear regression model\n",
    "features = ['Team Name','W', 'L', 'SOS']\n",
    "df = df[features]\n",
    "print(f\"Shape of the dataframe: {df.shape}\")"
   ]
  },
  {
   "cell_type": "code",
   "execution_count": null,
   "id": "b2c60640",
   "metadata": {
    "papermill": {
     "duration": 0.002269,
     "end_time": "2023-11-16T22:48:37.780290",
     "exception": false,
     "start_time": "2023-11-16T22:48:37.778021",
     "status": "completed"
    },
    "tags": []
   },
   "outputs": [],
   "source": []
  }
 ],
 "metadata": {
  "kaggle": {
   "accelerator": "none",
   "dataSources": [
    {
     "datasetId": 3994518,
     "sourceId": 6972790,
     "sourceType": "datasetVersion"
    }
   ],
   "dockerImageVersionId": 30587,
   "isGpuEnabled": false,
   "isInternetEnabled": true,
   "language": "python",
   "sourceType": "notebook"
  },
  "kernelspec": {
   "display_name": "Python 3",
   "language": "python",
   "name": "python3"
  },
  "language_info": {
   "codemirror_mode": {
    "name": "ipython",
    "version": 3
   },
   "file_extension": ".py",
   "mimetype": "text/x-python",
   "name": "python",
   "nbconvert_exporter": "python",
   "pygments_lexer": "ipython3",
   "version": "3.10.12"
  },
  "papermill": {
   "default_parameters": {},
   "duration": 4.092319,
   "end_time": "2023-11-16T22:48:38.303150",
   "environment_variables": {},
   "exception": null,
   "input_path": "__notebook__.ipynb",
   "output_path": "__notebook__.ipynb",
   "parameters": {},
   "start_time": "2023-11-16T22:48:34.210831",
   "version": "2.4.0"
  }
 },
 "nbformat": 4,
 "nbformat_minor": 5
}
